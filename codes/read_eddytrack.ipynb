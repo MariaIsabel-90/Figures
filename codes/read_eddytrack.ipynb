{
 "cells": [
  {
   "cell_type": "code",
   "execution_count": null,
   "metadata": {},
   "outputs": [],
   "source": [
    "#Importing the modules necessary to open the data, plot, do maps, change from julian dates to gregorian dates\n",
    "import numpy as np                              #array manipulation and math\n",
    "from matplotlib import pyplot as plt            #plotting the data\n",
    "from netCDF4 import Dataset,num2date            #read netcdf\n",
    "import matplotlib.patches                        \n",
    "import matplotlib.dates as mpD                  #dates in plots\n",
    "import cartopy.crs as ccrs                      #mapping module\n",
    "import cartopy.feature as cfeature              #to put features in a map\n",
    "from cartopy.mpl.gridliner import LONGITUDE_FORMATTER, LATITUDE_FORMATTER  #latitude, longitude formats\n",
    "from datetime import datetime                   #transform dates to python dates\n",
    "from datetime import timedelta   "
   ]
  },
  {
   "cell_type": "code",
   "execution_count": null,
   "metadata": {},
   "outputs": [],
   "source": [
    "#from the example in Cambon files\n",
    "nc = Dataset('/data0/project/benguela/BUIC/OUTPUT/R3KM/BENGSAFE_R3KM_V2c_EXTRACTED_eddydetect_fulllong/Result_Eddy_Detect/TRA02_SEL01_DET04_eddies_r3km_2005M1_2005M12/DET04_eddies_r3km_2005M1_2005M12.nc','r')"
   ]
  },
  {
   "cell_type": "code",
   "execution_count": null,
   "metadata": {},
   "outputs": [],
   "source": [
    "#To see the variables names\n",
    "print(nc.variables.keys())"
   ]
  },
  {
   "cell_type": "code",
   "execution_count": null,
   "metadata": {},
   "outputs": [],
   "source": [
    "# Convert julian date to gregorian date and vice versa\n",
    "dateref=datetime(1900,1,1)\n",
    "def jd_to_date(jd, date_ref):\n",
    "    date = [date_ref + timedelta(days=x) for x in jd]\n",
    "    return date\n",
    "\n",
    "def greg_to_jd(dategreg,dateref):\n",
    "    tmp=dategreg-dateref\n",
    "    return np.float(tmp.days) + np.float(tmp.seconds)/86400"
   ]
  },
  {
   "cell_type": "code",
   "execution_count": null,
   "metadata": {},
   "outputs": [],
   "source": [
    "#getting the variables from nc \n",
    "lat_all = nc.variables['lat'][:]\n",
    "lon_all = nc.variables['lon'][:] #tem q colocar [:]\n",
    "vort_all = nc.variables['Vorticity'][:]\n",
    "Energy_all = nc.variables['Energy'][:]\n",
    "Ampl_all = nc.variables['Amplitude'][:]\n",
    "U_all = nc.variables['U'][:]\n",
    "V_all = nc.variables['V'][:]\n",
    "time_all = nc.variables['time'][:]\n",
    "radius_all = nc.variables['Radius'][:]\n",
    "ID_all = nc.variables['ID']\n",
    "nc.close()\n"
   ]
  },
  {
   "cell_type": "code",
   "execution_count": null,
   "metadata": {},
   "outputs": [],
   "source": [
    "gregsd = jd_to_date(time_all,dateref)\n",
    "#setting the dates to do the 6 motnhs clip\n",
    "datebeg=datetime(2005,1,1,0)\n",
    "juldbeg=greg_to_jd(datebeg,dateref)\n",
    "dateend=datetime(2008,12,31,23)\n",
    "juldend=greg_to_jd(dateend,dateref)\n",
    "\n"
   ]
  },
  {
   "cell_type": "code",
   "execution_count": null,
   "metadata": {},
   "outputs": [],
   "source": [
    "##to separate the last 6 months\n",
    "datesub = time[(time>juldbeg)&(time<juldend)]\n",
    "latsub = lat[(time>juldbeg)&(time<juldend)]\n",
    "lonsub = lon[(time>juldbeg)&(time<juldend)]\n",
    "radiusub = radius[(time>juldbeg)&(time<juldend)]\n"
   ]
  },
  {
   "cell_type": "code",
   "execution_count": null,
   "metadata": {},
   "outputs": [],
   "source": [
    "print(np.shape(datesub))\n",
    "print(np.shape(latsub))\n",
    "print(np.shape(lonsub))\n",
    "print(np.shape(radiusub))"
   ]
  },
  {
   "cell_type": "code",
   "execution_count": null,
   "metadata": {},
   "outputs": [],
   "source": [
    "gregsub=jd_to_date(datesub,dateref)"
   ]
  },
  {
   "cell_type": "code",
   "execution_count": null,
   "metadata": {},
   "outputs": [],
   "source": [
    "print(gregsub[0])\n",
    "print(gregsub[-1])"
   ]
  },
  {
   "cell_type": "code",
   "execution_count": null,
   "metadata": {},
   "outputs": [],
   "source": [
    "import pickle\n",
    "# Saving the objects:\n",
    "with open('eddy_06a12_2005.pkl', 'wb') as f:  # Python 3: open(..., 'wb')\n",
    "    pickle.dump([datesub, latsub, lonsub, radiusub], f)"
   ]
  },
  {
   "cell_type": "code",
   "execution_count": null,
   "metadata": {},
   "outputs": [],
   "source": []
  }
 ],
 "metadata": {
  "kernelspec": {
   "display_name": "Python 3",
   "language": "python",
   "name": "python3"
  },
  "language_info": {
   "codemirror_mode": {
    "name": "ipython",
    "version": 3
   },
   "file_extension": ".py",
   "mimetype": "text/x-python",
   "name": "python",
   "nbconvert_exporter": "python",
   "pygments_lexer": "ipython3",
   "version": "3.6.9"
  }
 },
 "nbformat": 4,
 "nbformat_minor": 4
}
